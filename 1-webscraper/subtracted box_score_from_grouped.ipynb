{
 "cells": [
  {
   "cell_type": "code",
   "execution_count": 70,
   "metadata": {},
   "outputs": [],
   "source": [
    "import pandas as pd\n",
    "box_score_df = pd.read_csv('scraped_box_scores/box_score_df_feb_21_up_until.csv')"
   ]
  },
  {
   "cell_type": "code",
   "execution_count": 69,
   "metadata": {},
   "outputs": [],
   "source": []
  },
  {
   "cell_type": "code",
   "execution_count": 3,
   "metadata": {},
   "outputs": [],
   "source": [
    "box_score_df_feb_14 = box_score_df.loc[box_score_df['DATE'] == '2022-02-14']"
   ]
  },
  {
   "cell_type": "code",
   "execution_count": 4,
   "metadata": {},
   "outputs": [],
   "source": [
    "grouped_df_feb_14 = pd.read_csv('grouped_box_scores/grouped_feb_14_2022.csv')"
   ]
  },
  {
   "cell_type": "code",
   "execution_count": 45,
   "metadata": {},
   "outputs": [],
   "source": [
    "grouped_df_feb_14_2 = pd.read_csv('grouped_box_scores/grouped_feb_14_2022.csv')"
   ]
  },
  {
   "cell_type": "code",
   "execution_count": 6,
   "metadata": {},
   "outputs": [
    {
     "data": {
      "text/html": [
       "<div>\n",
       "<style scoped>\n",
       "    .dataframe tbody tr th:only-of-type {\n",
       "        vertical-align: middle;\n",
       "    }\n",
       "\n",
       "    .dataframe tbody tr th {\n",
       "        vertical-align: top;\n",
       "    }\n",
       "\n",
       "    .dataframe thead th {\n",
       "        text-align: right;\n",
       "    }\n",
       "</style>\n",
       "<table border=\"1\" class=\"dataframe\">\n",
       "  <thead>\n",
       "    <tr style=\"text-align: right;\">\n",
       "      <th></th>\n",
       "      <th>DATE</th>\n",
       "      <th>HOME_ABBR</th>\n",
       "      <th>VISITOR_ABBR</th>\n",
       "      <th>PTS_home</th>\n",
       "      <th>PTS_away</th>\n",
       "      <th>MARGIN</th>\n",
       "      <th>FG_PCT_home</th>\n",
       "      <th>FT_PCT_home</th>\n",
       "      <th>FG3_PCT_home</th>\n",
       "      <th>FG_PCT_away</th>\n",
       "      <th>FT_PCT_away</th>\n",
       "      <th>FG3_PCT_away</th>\n",
       "      <th>home_winning_percentage</th>\n",
       "      <th>visitor_winning_percentage</th>\n",
       "    </tr>\n",
       "  </thead>\n",
       "  <tbody>\n",
       "    <tr>\n",
       "      <th>0</th>\n",
       "      <td>2022-02-14</td>\n",
       "      <td>WAS</td>\n",
       "      <td>DET</td>\n",
       "      <td>105.5</td>\n",
       "      <td>101.1</td>\n",
       "      <td>4.4</td>\n",
       "      <td>0.4492</td>\n",
       "      <td>0.8151</td>\n",
       "      <td>0.3001</td>\n",
       "      <td>0.417</td>\n",
       "      <td>0.7414</td>\n",
       "      <td>0.3085</td>\n",
       "      <td>0.454545</td>\n",
       "      <td>0.214286</td>\n",
       "    </tr>\n",
       "  </tbody>\n",
       "</table>\n",
       "</div>"
      ],
      "text/plain": [
       "         DATE HOME_ABBR VISITOR_ABBR  PTS_home  PTS_away  MARGIN  FG_PCT_home  \\\n",
       "0  2022-02-14       WAS          DET     105.5     101.1     4.4       0.4492   \n",
       "\n",
       "   FT_PCT_home  FG3_PCT_home  FG_PCT_away  FT_PCT_away  FG3_PCT_away  \\\n",
       "0       0.8151        0.3001        0.417       0.7414        0.3085   \n",
       "\n",
       "   home_winning_percentage  visitor_winning_percentage  \n",
       "0                 0.454545                    0.214286  "
      ]
     },
     "execution_count": 6,
     "metadata": {},
     "output_type": "execute_result"
    }
   ],
   "source": [
    "grouped_df_feb_14.head(1)"
   ]
  },
  {
   "cell_type": "code",
   "execution_count": 7,
   "metadata": {},
   "outputs": [
    {
     "data": {
      "text/html": [
       "<div>\n",
       "<style scoped>\n",
       "    .dataframe tbody tr th:only-of-type {\n",
       "        vertical-align: middle;\n",
       "    }\n",
       "\n",
       "    .dataframe tbody tr th {\n",
       "        vertical-align: top;\n",
       "    }\n",
       "\n",
       "    .dataframe thead th {\n",
       "        text-align: right;\n",
       "    }\n",
       "</style>\n",
       "<table border=\"1\" class=\"dataframe\">\n",
       "  <thead>\n",
       "    <tr style=\"text-align: right;\">\n",
       "      <th></th>\n",
       "      <th>DATE</th>\n",
       "      <th>HOME_ABBR</th>\n",
       "      <th>VISITOR_ABBR</th>\n",
       "      <th>PTS_home</th>\n",
       "      <th>PTS_away</th>\n",
       "      <th>MARGIN</th>\n",
       "      <th>HOME_TEAM_WINS</th>\n",
       "      <th>FG_PCT_home</th>\n",
       "      <th>FT_PCT_home</th>\n",
       "      <th>FG3_PCT_home</th>\n",
       "      <th>AST_home</th>\n",
       "      <th>REB_home</th>\n",
       "      <th>FG_PCT_away</th>\n",
       "      <th>FT_PCT_away</th>\n",
       "      <th>FG3_PCT_away</th>\n",
       "      <th>AST_away</th>\n",
       "      <th>REB_away</th>\n",
       "    </tr>\n",
       "  </thead>\n",
       "  <tbody>\n",
       "    <tr>\n",
       "      <th>851</th>\n",
       "      <td>2022-02-14</td>\n",
       "      <td>WAS</td>\n",
       "      <td>DET</td>\n",
       "      <td>103</td>\n",
       "      <td>94</td>\n",
       "      <td>9</td>\n",
       "      <td>1</td>\n",
       "      <td>0.471</td>\n",
       "      <td>0.778</td>\n",
       "      <td>0.31</td>\n",
       "      <td>21</td>\n",
       "      <td>45</td>\n",
       "      <td>0.376</td>\n",
       "      <td>0.815</td>\n",
       "      <td>0.348</td>\n",
       "      <td>19</td>\n",
       "      <td>44</td>\n",
       "    </tr>\n",
       "  </tbody>\n",
       "</table>\n",
       "</div>"
      ],
      "text/plain": [
       "           DATE HOME_ABBR VISITOR_ABBR  PTS_home  PTS_away  MARGIN  \\\n",
       "851  2022-02-14       WAS          DET       103        94       9   \n",
       "\n",
       "     HOME_TEAM_WINS  FG_PCT_home  FT_PCT_home  FG3_PCT_home  AST_home  \\\n",
       "851               1        0.471        0.778          0.31        21   \n",
       "\n",
       "     REB_home  FG_PCT_away  FT_PCT_away  FG3_PCT_away  AST_away  REB_away  \n",
       "851        45        0.376        0.815         0.348        19        44  "
      ]
     },
     "execution_count": 7,
     "metadata": {},
     "output_type": "execute_result"
    }
   ],
   "source": [
    "box_score_df_feb_14.head(1)"
   ]
  },
  {
   "cell_type": "code",
   "execution_count": null,
   "metadata": {},
   "outputs": [],
   "source": [
    "box_score_df_feb_14 = box_score_df_feb_14.drop('HOME_TEAM_WINS', 1)\n"
   ]
  },
  {
   "cell_type": "code",
   "execution_count": 10,
   "metadata": {
    "scrolled": true
   },
   "outputs": [
    {
     "data": {
      "text/html": [
       "<div>\n",
       "<style scoped>\n",
       "    .dataframe tbody tr th:only-of-type {\n",
       "        vertical-align: middle;\n",
       "    }\n",
       "\n",
       "    .dataframe tbody tr th {\n",
       "        vertical-align: top;\n",
       "    }\n",
       "\n",
       "    .dataframe thead th {\n",
       "        text-align: right;\n",
       "    }\n",
       "</style>\n",
       "<table border=\"1\" class=\"dataframe\">\n",
       "  <thead>\n",
       "    <tr style=\"text-align: right;\">\n",
       "      <th></th>\n",
       "      <th>DATE</th>\n",
       "      <th>HOME_ABBR</th>\n",
       "      <th>VISITOR_ABBR</th>\n",
       "      <th>PTS_home</th>\n",
       "      <th>PTS_away</th>\n",
       "      <th>MARGIN</th>\n",
       "      <th>FG_PCT_home</th>\n",
       "      <th>FT_PCT_home</th>\n",
       "      <th>FG3_PCT_home</th>\n",
       "      <th>AST_home</th>\n",
       "      <th>REB_home</th>\n",
       "      <th>FG_PCT_away</th>\n",
       "      <th>FT_PCT_away</th>\n",
       "      <th>FG3_PCT_away</th>\n",
       "    </tr>\n",
       "  </thead>\n",
       "  <tbody>\n",
       "    <tr>\n",
       "      <th>851</th>\n",
       "      <td>2022-02-14</td>\n",
       "      <td>WAS</td>\n",
       "      <td>DET</td>\n",
       "      <td>103</td>\n",
       "      <td>94</td>\n",
       "      <td>9</td>\n",
       "      <td>0.471</td>\n",
       "      <td>0.778</td>\n",
       "      <td>0.31</td>\n",
       "      <td>21</td>\n",
       "      <td>45</td>\n",
       "      <td>0.376</td>\n",
       "      <td>0.815</td>\n",
       "      <td>0.348</td>\n",
       "    </tr>\n",
       "  </tbody>\n",
       "</table>\n",
       "</div>"
      ],
      "text/plain": [
       "           DATE HOME_ABBR VISITOR_ABBR  PTS_home  PTS_away  MARGIN  \\\n",
       "851  2022-02-14       WAS          DET       103        94       9   \n",
       "\n",
       "     FG_PCT_home  FT_PCT_home  FG3_PCT_home  AST_home  REB_home  FG_PCT_away  \\\n",
       "851        0.471        0.778          0.31        21        45        0.376   \n",
       "\n",
       "     FT_PCT_away  FG3_PCT_away  \n",
       "851        0.815         0.348  "
      ]
     },
     "execution_count": 10,
     "metadata": {},
     "output_type": "execute_result"
    }
   ],
   "source": [
    "box_score_df_feb_14 = box_score_df_feb_14.drop('AST_away', 1)\n",
    "box_score_df_feb_14 = box_score_df_feb_14.drop('REB_away', 1)\n",
    "box_score_df_feb_14.head(1)"
   ]
  },
  {
   "cell_type": "code",
   "execution_count": 14,
   "metadata": {},
   "outputs": [
    {
     "data": {
      "text/html": [
       "<div>\n",
       "<style scoped>\n",
       "    .dataframe tbody tr th:only-of-type {\n",
       "        vertical-align: middle;\n",
       "    }\n",
       "\n",
       "    .dataframe tbody tr th {\n",
       "        vertical-align: top;\n",
       "    }\n",
       "\n",
       "    .dataframe thead th {\n",
       "        text-align: right;\n",
       "    }\n",
       "</style>\n",
       "<table border=\"1\" class=\"dataframe\">\n",
       "  <thead>\n",
       "    <tr style=\"text-align: right;\">\n",
       "      <th></th>\n",
       "      <th>DATE</th>\n",
       "      <th>HOME_ABBR</th>\n",
       "      <th>VISITOR_ABBR</th>\n",
       "      <th>PTS_home</th>\n",
       "      <th>PTS_away</th>\n",
       "      <th>MARGIN</th>\n",
       "      <th>FG_PCT_home</th>\n",
       "      <th>FT_PCT_home</th>\n",
       "      <th>FG3_PCT_home</th>\n",
       "      <th>FG_PCT_away</th>\n",
       "      <th>FT_PCT_away</th>\n",
       "      <th>FG3_PCT_away</th>\n",
       "    </tr>\n",
       "  </thead>\n",
       "  <tbody>\n",
       "    <tr>\n",
       "      <th>851</th>\n",
       "      <td>2022-02-14</td>\n",
       "      <td>WAS</td>\n",
       "      <td>DET</td>\n",
       "      <td>103</td>\n",
       "      <td>94</td>\n",
       "      <td>9</td>\n",
       "      <td>0.471</td>\n",
       "      <td>0.778</td>\n",
       "      <td>0.31</td>\n",
       "      <td>0.376</td>\n",
       "      <td>0.815</td>\n",
       "      <td>0.348</td>\n",
       "    </tr>\n",
       "  </tbody>\n",
       "</table>\n",
       "</div>"
      ],
      "text/plain": [
       "           DATE HOME_ABBR VISITOR_ABBR  PTS_home  PTS_away  MARGIN  \\\n",
       "851  2022-02-14       WAS          DET       103        94       9   \n",
       "\n",
       "     FG_PCT_home  FT_PCT_home  FG3_PCT_home  FG_PCT_away  FT_PCT_away  \\\n",
       "851        0.471        0.778          0.31        0.376        0.815   \n",
       "\n",
       "     FG3_PCT_away  \n",
       "851         0.348  "
      ]
     },
     "execution_count": 14,
     "metadata": {},
     "output_type": "execute_result"
    }
   ],
   "source": [
    "box_score_df_feb_14 = box_score_df_feb_14.drop('AST_home', 1)\n",
    "box_score_df_feb_14 = box_score_df_feb_14.drop('REB_home', 1)\n",
    "box_score_df_feb_14.head(1)"
   ]
  },
  {
   "cell_type": "code",
   "execution_count": 15,
   "metadata": {},
   "outputs": [
    {
     "data": {
      "text/plain": [
       "Index(['DATE', 'HOME_ABBR', 'VISITOR_ABBR', 'PTS_home', 'PTS_away', 'MARGIN',\n",
       "       'FG_PCT_home', 'FT_PCT_home', 'FG3_PCT_home', 'FG_PCT_away',\n",
       "       'FT_PCT_away', 'FG3_PCT_away'],\n",
       "      dtype='object')"
      ]
     },
     "execution_count": 15,
     "metadata": {},
     "output_type": "execute_result"
    }
   ],
   "source": [
    "box_score_df_feb_14.columns"
   ]
  },
  {
   "cell_type": "code",
   "execution_count": 13,
   "metadata": {},
   "outputs": [
    {
     "data": {
      "text/plain": [
       "Index(['DATE', 'HOME_ABBR', 'VISITOR_ABBR', 'PTS_home', 'PTS_away', 'MARGIN',\n",
       "       'FG_PCT_home', 'FT_PCT_home', 'FG3_PCT_home', 'FG_PCT_away',\n",
       "       'FT_PCT_away', 'FG3_PCT_away', 'home_winning_percentage',\n",
       "       'visitor_winning_percentage'],\n",
       "      dtype='object')"
      ]
     },
     "execution_count": 13,
     "metadata": {},
     "output_type": "execute_result"
    }
   ],
   "source": [
    "grouped_df_feb_14.columns"
   ]
  },
  {
   "cell_type": "code",
   "execution_count": 17,
   "metadata": {},
   "outputs": [],
   "source": [
    "grouped_df_feb_14 = grouped_df_feb_14.drop('home_winning_percentage', 1)\n",
    "grouped_df_feb_14 = grouped_df_feb_14.drop('visitor_winning_percentage', 1)"
   ]
  },
  {
   "cell_type": "code",
   "execution_count": 19,
   "metadata": {},
   "outputs": [
    {
     "data": {
      "text/plain": [
       "Index(['DATE', 'HOME_ABBR', 'VISITOR_ABBR', 'PTS_home', 'PTS_away', 'MARGIN',\n",
       "       'FG_PCT_home', 'FT_PCT_home', 'FG3_PCT_home', 'FG_PCT_away',\n",
       "       'FT_PCT_away', 'FG3_PCT_away'],\n",
       "      dtype='object')"
      ]
     },
     "execution_count": 19,
     "metadata": {},
     "output_type": "execute_result"
    }
   ],
   "source": [
    "box_score_df_feb_14.columns"
   ]
  },
  {
   "cell_type": "code",
   "execution_count": 18,
   "metadata": {},
   "outputs": [
    {
     "data": {
      "text/plain": [
       "Index(['DATE', 'HOME_ABBR', 'VISITOR_ABBR', 'PTS_home', 'PTS_away', 'MARGIN',\n",
       "       'FG_PCT_home', 'FT_PCT_home', 'FG3_PCT_home', 'FG_PCT_away',\n",
       "       'FT_PCT_away', 'FG3_PCT_away'],\n",
       "      dtype='object')"
      ]
     },
     "execution_count": 18,
     "metadata": {},
     "output_type": "execute_result"
    }
   ],
   "source": [
    "grouped_df_feb_14.columns"
   ]
  },
  {
   "cell_type": "code",
   "execution_count": 16,
   "metadata": {},
   "outputs": [],
   "source": [
    "home_winning_percentage = grouped_df_feb_14['home_winning_percentage']\n",
    "visitor_winning_percentage = grouped_df_feb_14['visitor_winning_percentage']"
   ]
  },
  {
   "cell_type": "code",
   "execution_count": 20,
   "metadata": {},
   "outputs": [],
   "source": [
    "calculated_df = box_score_df_feb_14 - grouped_df_feb_14"
   ]
  },
  {
   "cell_type": "code",
   "execution_count": 22,
   "metadata": {},
   "outputs": [
    {
     "data": {
      "text/plain": [
       "Index(['DATE', 'HOME_ABBR', 'VISITOR_ABBR', 'PTS_home', 'PTS_away', 'MARGIN',\n",
       "       'FG_PCT_home', 'FT_PCT_home', 'FG3_PCT_home', 'FG_PCT_away',\n",
       "       'FT_PCT_away', 'FG3_PCT_away'],\n",
       "      dtype='object')"
      ]
     },
     "execution_count": 22,
     "metadata": {},
     "output_type": "execute_result"
    }
   ],
   "source": [
    "box_score_df_feb_14.columns"
   ]
  },
  {
   "cell_type": "code",
   "execution_count": 23,
   "metadata": {},
   "outputs": [],
   "source": [
    "box_score_df_feb_14[\"DATE\"]= pd.to_datetime(box_score_df_feb_14[\"DATE\"])\n",
    "box_score_df_feb_14['PTS_home'] = pd.to_numeric(box_score_df_feb_14['PTS_home'])\n",
    "box_score_df_feb_14['PTS_away'] = pd.to_numeric(box_score_df_feb_14['PTS_away'])\n",
    "box_score_df_feb_14['MARGIN'] = pd.to_numeric(box_score_df_feb_14['MARGIN'])\n",
    "box_score_df_feb_14['FG_PCT_home'] = pd.to_numeric(box_score_df_feb_14['FG_PCT_home'])\n",
    "box_score_df_feb_14['FT_PCT_home'] = pd.to_numeric(box_score_df_feb_14['FT_PCT_home'])\n",
    "box_score_df_feb_14['FG3_PCT_home'] = pd.to_numeric(box_score_df_feb_14['FG3_PCT_home'])\n",
    "box_score_df_feb_14['FG_PCT_away'] = pd.to_numeric(box_score_df_feb_14['FG_PCT_away'])\n",
    "box_score_df_feb_14['FT_PCT_away'] = pd.to_numeric(box_score_df_feb_14['FT_PCT_away'])\n",
    "box_score_df_feb_14['FG3_PCT_away'] = pd.to_numeric(box_score_df_feb_14['FG3_PCT_away'])"
   ]
  },
  {
   "cell_type": "code",
   "execution_count": 24,
   "metadata": {},
   "outputs": [],
   "source": [
    "grouped_df_feb_14[\"DATE\"]= pd.to_datetime(grouped_df_feb_14[\"DATE\"])\n",
    "grouped_df_feb_14['PTS_home'] = pd.to_numeric(grouped_df_feb_14['PTS_home'])\n",
    "grouped_df_feb_14['PTS_away'] = pd.to_numeric(grouped_df_feb_14['PTS_away'])\n",
    "grouped_df_feb_14['MARGIN'] = pd.to_numeric(grouped_df_feb_14['MARGIN'])\n",
    "grouped_df_feb_14['FG_PCT_home'] = pd.to_numeric(grouped_df_feb_14['FG_PCT_home'])\n",
    "grouped_df_feb_14['FT_PCT_home'] = pd.to_numeric(grouped_df_feb_14['FT_PCT_home'])\n",
    "grouped_df_feb_14['FG3_PCT_home'] = pd.to_numeric(grouped_df_feb_14['FG3_PCT_home'])\n",
    "grouped_df_feb_14['FG_PCT_away'] = pd.to_numeric(grouped_df_feb_14['FG_PCT_away'])\n",
    "grouped_df_feb_14['FT_PCT_away'] = pd.to_numeric(grouped_df_feb_14['FT_PCT_away'])\n",
    "grouped_df_feb_14['FG3_PCT_away'] = pd.to_numeric(grouped_df_feb_14['FG3_PCT_away'])"
   ]
  },
  {
   "cell_type": "code",
   "execution_count": 29,
   "metadata": {},
   "outputs": [
    {
     "name": "stdout",
     "output_type": "stream",
     "text": [
      "<class 'pandas.core.frame.DataFrame'>\n",
      "RangeIndex: 9 entries, 0 to 8\n",
      "Data columns (total 12 columns):\n",
      "DATE            9 non-null datetime64[ns]\n",
      "HOME_ABBR       9 non-null object\n",
      "VISITOR_ABBR    9 non-null object\n",
      "PTS_home        9 non-null float64\n",
      "PTS_away        9 non-null float64\n",
      "MARGIN          9 non-null float64\n",
      "FG_PCT_home     9 non-null float64\n",
      "FT_PCT_home     9 non-null float64\n",
      "FG3_PCT_home    9 non-null float64\n",
      "FG_PCT_away     9 non-null float64\n",
      "FT_PCT_away     9 non-null float64\n",
      "FG3_PCT_away    9 non-null float64\n",
      "dtypes: datetime64[ns](1), float64(9), object(2)\n",
      "memory usage: 992.0+ bytes\n"
     ]
    }
   ],
   "source": [
    "grouped_df_feb_14.info()"
   ]
  },
  {
   "cell_type": "code",
   "execution_count": 33,
   "metadata": {},
   "outputs": [
    {
     "data": {
      "text/plain": [
       "Index(['DATE', 'HOME_ABBR', 'VISITOR_ABBR', 'PTS_home', 'PTS_away', 'MARGIN',\n",
       "       'FG_PCT_home', 'FT_PCT_home', 'FG3_PCT_home', 'FG_PCT_away',\n",
       "       'FT_PCT_away', 'FG3_PCT_away'],\n",
       "      dtype='object')"
      ]
     },
     "execution_count": 33,
     "metadata": {},
     "output_type": "execute_result"
    }
   ],
   "source": [
    "grouped_df_feb_14.columns"
   ]
  },
  {
   "cell_type": "code",
   "execution_count": 32,
   "metadata": {},
   "outputs": [
    {
     "data": {
      "text/plain": [
       "Index(['DATE', 'HOME_ABBR', 'VISITOR_ABBR', 'PTS_home', 'PTS_away', 'MARGIN',\n",
       "       'FG_PCT_home', 'FT_PCT_home', 'FG3_PCT_home', 'FG_PCT_away',\n",
       "       'FT_PCT_away', 'FG3_PCT_away'],\n",
       "      dtype='object')"
      ]
     },
     "execution_count": 32,
     "metadata": {},
     "output_type": "execute_result"
    }
   ],
   "source": [
    "box_score_df_feb_14.columns"
   ]
  },
  {
   "cell_type": "code",
   "execution_count": 34,
   "metadata": {},
   "outputs": [],
   "source": [
    "box_score_df_feb_14 = box_score_df_feb_14.drop('DATE', 1)\n",
    "box_score_df_feb_14 = box_score_df_feb_14.drop('HOME_ABBR', 1)\n",
    "box_score_df_feb_14 = box_score_df_feb_14.drop('VISITOR_ABBR', 1)\n"
   ]
  },
  {
   "cell_type": "code",
   "execution_count": 35,
   "metadata": {},
   "outputs": [],
   "source": [
    "grouped_df_feb_14 = grouped_df_feb_14.drop('DATE', 1)\n",
    "grouped_df_feb_14 = grouped_df_feb_14.drop('HOME_ABBR', 1)\n",
    "grouped_df_feb_14 = grouped_df_feb_14.drop('VISITOR_ABBR', 1)\n"
   ]
  },
  {
   "cell_type": "code",
   "execution_count": 40,
   "metadata": {},
   "outputs": [],
   "source": [
    "grouped_df_feb_14 = grouped_df_feb_14.reset_index(drop=True)"
   ]
  },
  {
   "cell_type": "code",
   "execution_count": 42,
   "metadata": {},
   "outputs": [
    {
     "data": {
      "text/html": [
       "<div>\n",
       "<style scoped>\n",
       "    .dataframe tbody tr th:only-of-type {\n",
       "        vertical-align: middle;\n",
       "    }\n",
       "\n",
       "    .dataframe tbody tr th {\n",
       "        vertical-align: top;\n",
       "    }\n",
       "\n",
       "    .dataframe thead th {\n",
       "        text-align: right;\n",
       "    }\n",
       "</style>\n",
       "<table border=\"1\" class=\"dataframe\">\n",
       "  <thead>\n",
       "    <tr style=\"text-align: right;\">\n",
       "      <th></th>\n",
       "      <th>PTS_home</th>\n",
       "      <th>PTS_away</th>\n",
       "      <th>MARGIN</th>\n",
       "      <th>FG_PCT_home</th>\n",
       "      <th>FT_PCT_home</th>\n",
       "      <th>FG3_PCT_home</th>\n",
       "      <th>FG_PCT_away</th>\n",
       "      <th>FT_PCT_away</th>\n",
       "      <th>FG3_PCT_away</th>\n",
       "    </tr>\n",
       "  </thead>\n",
       "  <tbody>\n",
       "    <tr>\n",
       "      <th>0</th>\n",
       "      <td>103</td>\n",
       "      <td>94</td>\n",
       "      <td>9</td>\n",
       "      <td>0.471</td>\n",
       "      <td>0.778</td>\n",
       "      <td>0.310</td>\n",
       "      <td>0.376</td>\n",
       "      <td>0.815</td>\n",
       "      <td>0.348</td>\n",
       "    </tr>\n",
       "    <tr>\n",
       "      <th>1</th>\n",
       "      <td>109</td>\n",
       "      <td>85</td>\n",
       "      <td>24</td>\n",
       "      <td>0.512</td>\n",
       "      <td>0.933</td>\n",
       "      <td>0.346</td>\n",
       "      <td>0.344</td>\n",
       "      <td>0.778</td>\n",
       "      <td>0.257</td>\n",
       "    </tr>\n",
       "    <tr>\n",
       "      <th>2</th>\n",
       "      <td>123</td>\n",
       "      <td>127</td>\n",
       "      <td>-4</td>\n",
       "      <td>0.417</td>\n",
       "      <td>0.818</td>\n",
       "      <td>0.300</td>\n",
       "      <td>0.500</td>\n",
       "      <td>0.667</td>\n",
       "      <td>0.382</td>\n",
       "    </tr>\n",
       "    <tr>\n",
       "      <th>3</th>\n",
       "      <td>120</td>\n",
       "      <td>109</td>\n",
       "      <td>11</td>\n",
       "      <td>0.523</td>\n",
       "      <td>0.857</td>\n",
       "      <td>0.417</td>\n",
       "      <td>0.478</td>\n",
       "      <td>0.714</td>\n",
       "      <td>0.300</td>\n",
       "    </tr>\n",
       "    <tr>\n",
       "      <th>4</th>\n",
       "      <td>107</td>\n",
       "      <td>122</td>\n",
       "      <td>-15</td>\n",
       "      <td>0.427</td>\n",
       "      <td>0.750</td>\n",
       "      <td>0.317</td>\n",
       "      <td>0.455</td>\n",
       "      <td>0.737</td>\n",
       "      <td>0.419</td>\n",
       "    </tr>\n",
       "    <tr>\n",
       "      <th>5</th>\n",
       "      <td>120</td>\n",
       "      <td>90</td>\n",
       "      <td>30</td>\n",
       "      <td>0.584</td>\n",
       "      <td>0.875</td>\n",
       "      <td>0.457</td>\n",
       "      <td>0.305</td>\n",
       "      <td>0.774</td>\n",
       "      <td>0.235</td>\n",
       "    </tr>\n",
       "    <tr>\n",
       "      <th>6</th>\n",
       "      <td>121</td>\n",
       "      <td>111</td>\n",
       "      <td>10</td>\n",
       "      <td>0.477</td>\n",
       "      <td>0.913</td>\n",
       "      <td>0.400</td>\n",
       "      <td>0.440</td>\n",
       "      <td>0.870</td>\n",
       "      <td>0.282</td>\n",
       "    </tr>\n",
       "    <tr>\n",
       "      <th>7</th>\n",
       "      <td>135</td>\n",
       "      <td>101</td>\n",
       "      <td>34</td>\n",
       "      <td>0.551</td>\n",
       "      <td>0.864</td>\n",
       "      <td>0.450</td>\n",
       "      <td>0.422</td>\n",
       "      <td>0.679</td>\n",
       "      <td>0.324</td>\n",
       "    </tr>\n",
       "    <tr>\n",
       "      <th>8</th>\n",
       "      <td>119</td>\n",
       "      <td>104</td>\n",
       "      <td>15</td>\n",
       "      <td>0.565</td>\n",
       "      <td>0.533</td>\n",
       "      <td>0.441</td>\n",
       "      <td>0.453</td>\n",
       "      <td>0.769</td>\n",
       "      <td>0.390</td>\n",
       "    </tr>\n",
       "  </tbody>\n",
       "</table>\n",
       "</div>"
      ],
      "text/plain": [
       "   PTS_home  PTS_away  MARGIN  FG_PCT_home  FT_PCT_home  FG3_PCT_home  \\\n",
       "0       103        94       9        0.471        0.778         0.310   \n",
       "1       109        85      24        0.512        0.933         0.346   \n",
       "2       123       127      -4        0.417        0.818         0.300   \n",
       "3       120       109      11        0.523        0.857         0.417   \n",
       "4       107       122     -15        0.427        0.750         0.317   \n",
       "5       120        90      30        0.584        0.875         0.457   \n",
       "6       121       111      10        0.477        0.913         0.400   \n",
       "7       135       101      34        0.551        0.864         0.450   \n",
       "8       119       104      15        0.565        0.533         0.441   \n",
       "\n",
       "   FG_PCT_away  FT_PCT_away  FG3_PCT_away  \n",
       "0        0.376        0.815         0.348  \n",
       "1        0.344        0.778         0.257  \n",
       "2        0.500        0.667         0.382  \n",
       "3        0.478        0.714         0.300  \n",
       "4        0.455        0.737         0.419  \n",
       "5        0.305        0.774         0.235  \n",
       "6        0.440        0.870         0.282  \n",
       "7        0.422        0.679         0.324  \n",
       "8        0.453        0.769         0.390  "
      ]
     },
     "execution_count": 42,
     "metadata": {},
     "output_type": "execute_result"
    }
   ],
   "source": [
    "box_score_df_feb_14"
   ]
  },
  {
   "cell_type": "code",
   "execution_count": 43,
   "metadata": {},
   "outputs": [],
   "source": [
    "calculated_df = box_score_df_feb_14 - grouped_df_feb_14"
   ]
  },
  {
   "cell_type": "code",
   "execution_count": 46,
   "metadata": {
    "scrolled": true
   },
   "outputs": [],
   "source": [
    "calculated_df['DATE'] = grouped_df_feb_14_2['DATE']\n",
    "calculated_df['HOME_ABBR'] = grouped_df_feb_14_2['HOME_ABBR']\n",
    "calculated_df['VISITOR_ABBR'] = grouped_df_feb_14_2['VISITOR_ABBR']\n"
   ]
  },
  {
   "cell_type": "code",
   "execution_count": 48,
   "metadata": {},
   "outputs": [],
   "source": [
    "calculated_df['home_%'] = home_winning_percentage\n",
    "calculated_df['visitor_%'] = visitor_winning_percentage"
   ]
  },
  {
   "cell_type": "code",
   "execution_count": 50,
   "metadata": {},
   "outputs": [],
   "source": [
    "calculated_df['diff_%'] = home_winning_percentage - visitor_winning_percentage"
   ]
  },
  {
   "cell_type": "code",
   "execution_count": 52,
   "metadata": {},
   "outputs": [],
   "source": [
    "calculated_df.to_csv('diff_feb_14.csv', index=False)"
   ]
  },
  {
   "cell_type": "code",
   "execution_count": null,
   "metadata": {},
   "outputs": [],
   "source": [
    "grouped_df_feb_14_2"
   ]
  },
  {
   "cell_type": "code",
   "execution_count": 53,
   "metadata": {},
   "outputs": [],
   "source": [
    "calculated_df_2 = calculated_df.copy()"
   ]
  },
  {
   "cell_type": "code",
   "execution_count": 58,
   "metadata": {},
   "outputs": [],
   "source": [
    "calculated_df_2 = calculated_df_2.round({\"diff_%\":1})"
   ]
  },
  {
   "cell_type": "code",
   "execution_count": null,
   "metadata": {},
   "outputs": [],
   "source": []
  },
  {
   "cell_type": "code",
   "execution_count": 59,
   "metadata": {},
   "outputs": [],
   "source": [
    "grouped_df = calculated_df_2.groupby(\"diff_%\")"
   ]
  },
  {
   "cell_type": "code",
   "execution_count": 62,
   "metadata": {},
   "outputs": [],
   "source": [
    "mean_df = grouped_df.mean()"
   ]
  },
  {
   "cell_type": "code",
   "execution_count": 63,
   "metadata": {},
   "outputs": [
    {
     "data": {
      "text/html": [
       "<div>\n",
       "<style scoped>\n",
       "    .dataframe tbody tr th:only-of-type {\n",
       "        vertical-align: middle;\n",
       "    }\n",
       "\n",
       "    .dataframe tbody tr th {\n",
       "        vertical-align: top;\n",
       "    }\n",
       "\n",
       "    .dataframe thead th {\n",
       "        text-align: right;\n",
       "    }\n",
       "</style>\n",
       "<table border=\"1\" class=\"dataframe\">\n",
       "  <thead>\n",
       "    <tr style=\"text-align: right;\">\n",
       "      <th></th>\n",
       "      <th>PTS_home</th>\n",
       "      <th>PTS_away</th>\n",
       "      <th>MARGIN</th>\n",
       "      <th>FG_PCT_home</th>\n",
       "      <th>FT_PCT_home</th>\n",
       "      <th>FG3_PCT_home</th>\n",
       "      <th>FG_PCT_away</th>\n",
       "      <th>FT_PCT_away</th>\n",
       "      <th>FG3_PCT_away</th>\n",
       "      <th>home_%</th>\n",
       "      <th>visitor_%</th>\n",
       "    </tr>\n",
       "    <tr>\n",
       "      <th>diff_%</th>\n",
       "      <th></th>\n",
       "      <th></th>\n",
       "      <th></th>\n",
       "      <th></th>\n",
       "      <th></th>\n",
       "      <th></th>\n",
       "      <th></th>\n",
       "      <th></th>\n",
       "      <th></th>\n",
       "      <th></th>\n",
       "      <th></th>\n",
       "    </tr>\n",
       "  </thead>\n",
       "  <tbody>\n",
       "    <tr>\n",
       "      <th>-0.2</th>\n",
       "      <td>11.500000</td>\n",
       "      <td>-11.950000</td>\n",
       "      <td>23.45</td>\n",
       "      <td>0.121100</td>\n",
       "      <td>-0.109500</td>\n",
       "      <td>0.126650</td>\n",
       "      <td>-0.071000</td>\n",
       "      <td>0.000750</td>\n",
       "      <td>-0.04635</td>\n",
       "      <td>0.441883</td>\n",
       "      <td>0.650239</td>\n",
       "    </tr>\n",
       "    <tr>\n",
       "      <th>0.1</th>\n",
       "      <td>17.700000</td>\n",
       "      <td>25.000000</td>\n",
       "      <td>-7.30</td>\n",
       "      <td>-0.031800</td>\n",
       "      <td>0.092700</td>\n",
       "      <td>-0.061800</td>\n",
       "      <td>0.078200</td>\n",
       "      <td>-0.100300</td>\n",
       "      <td>0.06450</td>\n",
       "      <td>0.461538</td>\n",
       "      <td>0.314815</td>\n",
       "    </tr>\n",
       "    <tr>\n",
       "      <th>0.2</th>\n",
       "      <td>-2.333333</td>\n",
       "      <td>-3.533333</td>\n",
       "      <td>1.20</td>\n",
       "      <td>0.018667</td>\n",
       "      <td>0.015033</td>\n",
       "      <td>0.009433</td>\n",
       "      <td>-0.052233</td>\n",
       "      <td>0.048433</td>\n",
       "      <td>0.00680</td>\n",
       "      <td>0.531785</td>\n",
       "      <td>0.328739</td>\n",
       "    </tr>\n",
       "    <tr>\n",
       "      <th>0.3</th>\n",
       "      <td>1.200000</td>\n",
       "      <td>0.950000</td>\n",
       "      <td>0.25</td>\n",
       "      <td>-0.011300</td>\n",
       "      <td>0.078100</td>\n",
       "      <td>0.034800</td>\n",
       "      <td>0.003200</td>\n",
       "      <td>-0.005100</td>\n",
       "      <td>-0.06785</td>\n",
       "      <td>0.593567</td>\n",
       "      <td>0.294276</td>\n",
       "    </tr>\n",
       "    <tr>\n",
       "      <th>0.4</th>\n",
       "      <td>25.300000</td>\n",
       "      <td>-9.800000</td>\n",
       "      <td>35.10</td>\n",
       "      <td>0.093500</td>\n",
       "      <td>0.071300</td>\n",
       "      <td>0.126800</td>\n",
       "      <td>-0.026500</td>\n",
       "      <td>-0.071300</td>\n",
       "      <td>-0.03370</td>\n",
       "      <td>0.625000</td>\n",
       "      <td>0.272727</td>\n",
       "    </tr>\n",
       "  </tbody>\n",
       "</table>\n",
       "</div>"
      ],
      "text/plain": [
       "         PTS_home   PTS_away  MARGIN  FG_PCT_home  FT_PCT_home  FG3_PCT_home  \\\n",
       "diff_%                                                                         \n",
       "-0.2    11.500000 -11.950000   23.45     0.121100    -0.109500      0.126650   \n",
       " 0.1    17.700000  25.000000   -7.30    -0.031800     0.092700     -0.061800   \n",
       " 0.2    -2.333333  -3.533333    1.20     0.018667     0.015033      0.009433   \n",
       " 0.3     1.200000   0.950000    0.25    -0.011300     0.078100      0.034800   \n",
       " 0.4    25.300000  -9.800000   35.10     0.093500     0.071300      0.126800   \n",
       "\n",
       "        FG_PCT_away  FT_PCT_away  FG3_PCT_away    home_%  visitor_%  \n",
       "diff_%                                                               \n",
       "-0.2      -0.071000     0.000750      -0.04635  0.441883   0.650239  \n",
       " 0.1       0.078200    -0.100300       0.06450  0.461538   0.314815  \n",
       " 0.2      -0.052233     0.048433       0.00680  0.531785   0.328739  \n",
       " 0.3       0.003200    -0.005100      -0.06785  0.593567   0.294276  \n",
       " 0.4      -0.026500    -0.071300      -0.03370  0.625000   0.272727  "
      ]
     },
     "execution_count": 63,
     "metadata": {},
     "output_type": "execute_result"
    }
   ],
   "source": [
    "mean_df"
   ]
  },
  {
   "cell_type": "code",
   "execution_count": null,
   "metadata": {},
   "outputs": [],
   "source": [
    "grouped_df = df.groupby(\"Name\")\n",
    "mean_df = grouped_df.mean()\n"
   ]
  },
  {
   "cell_type": "markdown",
   "metadata": {},
   "source": [
    "mean"
   ]
  },
  {
   "cell_type": "code",
   "execution_count": 65,
   "metadata": {},
   "outputs": [
    {
     "ename": "SyntaxError",
     "evalue": "EOL while scanning string literal (<ipython-input-65-4588f5e66fca>, line 1)",
     "output_type": "error",
     "traceback": [
      "\u001b[0;36m  File \u001b[0;32m\"<ipython-input-65-4588f5e66fca>\"\u001b[0;36m, line \u001b[0;32m1\u001b[0m\n\u001b[0;31m    mean_df.to_csv('\u001b[0m\n\u001b[0m                     ^\u001b[0m\n\u001b[0;31mSyntaxError\u001b[0m\u001b[0;31m:\u001b[0m EOL while scanning string literal\n"
     ]
    }
   ],
   "source": [
    "mean_df.to_csv(' \n",
    "               \"\n",
    "               \"\n",
    "               \"\"\"\"')"
   ]
  },
  {
   "cell_type": "code",
   "execution_count": 66,
   "metadata": {},
   "outputs": [
    {
     "ename": "NameError",
     "evalue": "name 'home_1' is not defined",
     "output_type": "error",
     "traceback": [
      "\u001b[0;31m---------------------------------------------------------------------------\u001b[0m",
      "\u001b[0;31mNameError\u001b[0m                                 Traceback (most recent call last)",
      "\u001b[0;32m<ipython-input-66-3b57a72caeff>\u001b[0m in \u001b[0;36m<module>\u001b[0;34m\u001b[0m\n\u001b[0;32m----> 1\u001b[0;31m \u001b[0mhome_df_group_by\u001b[0m \u001b[0;34m=\u001b[0m \u001b[0mbox_score_df\u001b[0m\u001b[0;34m.\u001b[0m\u001b[0mloc\u001b[0m\u001b[0;34m[\u001b[0m\u001b[0mbox_score_df\u001b[0m\u001b[0;34m[\u001b[0m\u001b[0;34m'HOME_ABBR'\u001b[0m\u001b[0;34m]\u001b[0m \u001b[0;34m==\u001b[0m \u001b[0mhome_1\u001b[0m\u001b[0;34m]\u001b[0m\u001b[0;34m.\u001b[0m\u001b[0mtail\u001b[0m\u001b[0;34m(\u001b[0m\u001b[0;36m10\u001b[0m\u001b[0;34m)\u001b[0m\u001b[0;34m.\u001b[0m\u001b[0mmean\u001b[0m\u001b[0;34m(\u001b[0m\u001b[0;34m)\u001b[0m\u001b[0;34m.\u001b[0m\u001b[0mreset_index\u001b[0m\u001b[0;34m(\u001b[0m\u001b[0;34m)\u001b[0m\u001b[0;34m\u001b[0m\u001b[0;34m\u001b[0m\u001b[0m\n\u001b[0m",
      "\u001b[0;31mNameError\u001b[0m: name 'home_1' is not defined"
     ]
    }
   ],
   "source": [
    "home_df_group_by = box_score_df.loc[box_score_df['HOME_ABBR'] == home_1].tail(10).mean().reset_index()"
   ]
  },
  {
   "cell_type": "code",
   "execution_count": null,
   "metadata": {},
   "outputs": [],
   "source": [
    "home_df_group_by = box_score_df.loc[box_score_df['HOME_ABBR'] == home_1].tail(10).mean().reset_index()"
   ]
  }
 ],
 "metadata": {
  "kernelspec": {
   "display_name": "Python 3",
   "language": "python",
   "name": "python3"
  },
  "language_info": {
   "codemirror_mode": {
    "name": "ipython",
    "version": 3
   },
   "file_extension": ".py",
   "mimetype": "text/x-python",
   "name": "python",
   "nbconvert_exporter": "python",
   "pygments_lexer": "ipython3",
   "version": "3.8.5"
  }
 },
 "nbformat": 4,
 "nbformat_minor": 4
}
