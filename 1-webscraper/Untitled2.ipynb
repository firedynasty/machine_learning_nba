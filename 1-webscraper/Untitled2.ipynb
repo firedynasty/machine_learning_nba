{
 "cells": [
  {
   "cell_type": "code",
   "execution_count": 1,
   "metadata": {},
   "outputs": [
    {
     "name": "stdout",
     "output_type": "stream",
     "text": [
      "Enter the value: 20\n",
      "The closest value to the 20 is 22\n"
     ]
    }
   ],
   "source": [
    "import numpy as np\n",
    " \n",
    "def closest_value(input_list, input_value):\n",
    " \n",
    "  arr = np.asarray(input_list)\n",
    " \n",
    "  i = (np.abs(arr - input_value)).argmin()\n",
    " \n",
    "  return arr[i]\n",
    " \n",
    "if __name__ == \"__main__\" :\n",
    " \n",
    "  list1 = [22, 12, 51, 23, 48, 16, 34, 61]\n",
    " \n",
    "  num=int(input(\"Enter the value: \"))\n",
    " \n",
    "  val=closest_value(list1,num)\n",
    " \n",
    "  print(\"The closest value to the \"+ str(num)+\" is\",val)\n"
   ]
  },
  {
   "cell_type": "code",
   "execution_count": 2,
   "metadata": {},
   "outputs": [],
   "source": [
    "arr = np.asarray(22)"
   ]
  },
  {
   "cell_type": "code",
   "execution_count": 3,
   "metadata": {},
   "outputs": [
    {
     "data": {
      "text/plain": [
       "array(22)"
      ]
     },
     "execution_count": 3,
     "metadata": {},
     "output_type": "execute_result"
    }
   ],
   "source": [
    "arr"
   ]
  },
  {
   "cell_type": "code",
   "execution_count": null,
   "metadata": {},
   "outputs": [],
   "source": []
  }
 ],
 "metadata": {
  "kernelspec": {
   "display_name": "Python 3",
   "language": "python",
   "name": "python3"
  },
  "language_info": {
   "codemirror_mode": {
    "name": "ipython",
    "version": 3
   },
   "file_extension": ".py",
   "mimetype": "text/x-python",
   "name": "python",
   "nbconvert_exporter": "python",
   "pygments_lexer": "ipython3",
   "version": "3.8.5"
  }
 },
 "nbformat": 4,
 "nbformat_minor": 4
}
