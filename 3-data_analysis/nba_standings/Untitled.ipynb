{
 "cells": [
  {
   "cell_type": "code",
   "execution_count": 1,
   "metadata": {},
   "outputs": [],
   "source": [
    "team_to_abbreviation = {\n",
    "    \"ATLANTA HAWKS\" : \"ATL\",\n",
    "    \"ST. LOUIS HAWKS\" : \"SLH\",\n",
    "    \"MILWAUKEE HAWKS\" : \"MIL\",\n",
    "    \"TRI-CITIES BLACKHAWKS\" : \"TCB\",\n",
    "    \"BOSTON CELTICS\" : \"BOS\",\n",
    "    \"BROOKLYN NETS\" : \"BRK\",\n",
    "    \"NEW JERSEY NETS\" : \"NJN\",\n",
    "    \"CHICAGO BULLS\" : \"CHI\",\n",
    "    \"CHARLOTTE HORNETS\": \"CHO\",\n",
    "    \"CHARLOTTE BOBCATS\" : \"CHA\",\n",
    "    \"CLEVELAND CAVALIERS\": \"CLE\",\n",
    "    \"DALLAS MAVERICKS\" : \"DAL\",\n",
    "    \"DENVER NUGGETS\" : \"DEN\",\n",
    "    \"DETROIT PISTONS\" : \"DET\",\n",
    "    \"FORT WAYNE PISTONS\" : \"FWP\",\n",
    "    \"GOLDEN STATE WARRIORS\" : \"GSW\",\n",
    "    \"SAN FRANCISCO WARRIORS\" : \"SFW\",\n",
    "    \"PHILADELPHIA WARRIORS\" : \"PHI\",\n",
    "    \"HOUSTON ROCKETS\" : \"HOU\",\n",
    "    \"INDIANA PACERS\" : \"IND\",\n",
    "    \"LOS ANGELES CLIPPERS\" : \"LAC\",\n",
    "    \"SAN DIEGO CLIPPERS\" : \"SDC\",\n",
    "    \"BUFFALO BRAVES\" : \"BUF\",\n",
    "    \"LOS ANGELES LAKERS\" : \"LAL\",\n",
    "    \"MINNEAPOLIS LAKERS\" : \"MIN\",\n",
    "    \"MEMPHIS GRIZZLIES\" : \"MEM\",\n",
    "    \"VANCOUVER GRIZZLIES\" : 'VAN',\n",
    "    \"MIAMI HEAT\" : \"MIA\",\n",
    "    \"MILWAUKEE BUCKS\" : \"MIL\",\n",
    "    \"MINNESOTA TIMBERWOLVES\" : \"MIN\",\n",
    "    \"NEW ORLEANS PELICANS\" : \"NOP\",\n",
    "    \"NEW ORLEANS/OKLAHOMA CITY HORNETS\" : \"NOK\",\n",
    "    \"NEW ORLEANS HORNETS\" : \"NOH\",\n",
    "    \"NEW YORK KNICKS\" : \"NYK\",\n",
    "    \"OKLAHOMA CITY THUNDER\" : \"OKC\",\n",
    "    \"SEATTLE SUPERSONICS\" : \"SEA\",\n",
    "    \"ORLANDO MAGIC\" : \"ORL\",\n",
    "    \"PHILADELPHIA 76ERS\" : \"PHI\",\n",
    "    \"SYRACUSE NATIONALS\" : \"SYR\",\n",
    "    \"PHOENIX SUNS\" : \"PHO\",\n",
    "    \"PORTLAND TRAIL BLAZERS\" : \"POR\",\n",
    "    \"SACRAMENTO KINGS\" : \"SAC\",\n",
    "    \"KANSAS CITY KINGS\" : \"KCK\",\n",
    "    \"KANSAS CITY-OMAHA KINGS\" : \"KCK\",\n",
    "    \"CINCINNATI ROYALS\" : \"CIN\",\n",
    "    \"ROCHESTER ROYALS\" : \"ROR\",\n",
    "    \"SAN ANTONIO SPURS\" : \"SAS\",\n",
    "    \"TORONTO RAPTORS\" : \"TOR\",\n",
    "    \"UTAH JAZZ\" : \"UTA\",\n",
    "    \"NEW ORLEANS JAZZ\" : \"NOJ\",\n",
    "    \"WASHINGTON WIZARDS\" : \"WAS\",\n",
    "    \"WASHINGTON BULLETS\" : \"WAS\",\n",
    "    \"CAPITAL BULLETS\" : \"CAP\",\n",
    "    \"BALTIMORE BULLETS\" : \"BAL\",\n",
    "    \"CHICAGO ZEPHYRS\" : \"CHI\",\n",
    "    \"CHICAGO PACKERS\" : \"CHI\",\n",
    "    \"ANDERSON PACKERS\" : \"AND\",\n",
    "    \"CHICAGO STAGS\" : \"CHI\",\n",
    "    \"INDIANAPOLIS OLYMPIANS\" : \"IND\",\n",
    "    \"SHEBOYGAN RED SKINS\" : \"SRS\",\n",
    "    \"ST. LOUIS BOMBERS\" : \"SLB\",\n",
    "    \"WASHINGTON CAPITOLS\" : \"WAS\",\n",
    "    \"WATERLOO HAWKS\" : \"WAT\"\n",
    "}"
   ]
  },
  {
   "cell_type": "code",
   "execution_count": 16,
   "metadata": {},
   "outputs": [],
   "source": [
    "import pandas as pd\n",
    "df = pd.read_csv('standings.csv', names=['Teams', 'Winning_PCT'])"
   ]
  },
  {
   "cell_type": "markdown",
   "metadata": {},
   "source": [
    "TUTORIAL\n",
    "\n",
    "```python\n",
    "for ind in schedule_df.index: \n",
    "    schedule_df['MARGIN'][ind] = schedule_df['HOME_PTS'][ind] - schedule_df['VISITOR_PTS'][ind]\n",
    "    schedule_df['VISITOR'][ind] = schedule_df['VISITOR'][ind].upper()\n",
    "    schedule_df['HOME'][ind] = schedule_df['HOME'][ind].upper()\n",
    "    schedule_df['HOME_ABBR'][ind] = team_to_abbreviation[schedule_df['HOME'][ind]]\n",
    "    schedule_df['VISITOR_ABBR'][ind] = team_to_abbreviation[schedule_df['VISITOR'][ind]]\n",
    "```"
   ]
  },
  {
   "cell_type": "code",
   "execution_count": 17,
   "metadata": {},
   "outputs": [],
   "source": [
    "df['HOME_ABBR'] = 0"
   ]
  },
  {
   "cell_type": "code",
   "execution_count": 18,
   "metadata": {},
   "outputs": [
    {
     "name": "stderr",
     "output_type": "stream",
     "text": [
      "<ipython-input-18-8c8bab9e3fc3>:2: SettingWithCopyWarning: \n",
      "A value is trying to be set on a copy of a slice from a DataFrame\n",
      "\n",
      "See the caveats in the documentation: http://pandas.pydata.org/pandas-docs/stable/user_guide/indexing.html#returning-a-view-versus-a-copy\n",
      "  df['Teams'][ind] = df['Teams'][ind].upper()\n",
      "<ipython-input-18-8c8bab9e3fc3>:3: SettingWithCopyWarning: \n",
      "A value is trying to be set on a copy of a slice from a DataFrame\n",
      "\n",
      "See the caveats in the documentation: http://pandas.pydata.org/pandas-docs/stable/user_guide/indexing.html#returning-a-view-versus-a-copy\n",
      "  df['HOME_ABBR'][ind] = team_to_abbreviation[df['Teams'][ind]]\n",
      "/Users/stanleytan/anaconda3/lib/python3.8/site-packages/pandas/core/indexing.py:205: SettingWithCopyWarning: \n",
      "A value is trying to be set on a copy of a slice from a DataFrame\n",
      "\n",
      "See the caveats in the documentation: http://pandas.pydata.org/pandas-docs/stable/user_guide/indexing.html#returning-a-view-versus-a-copy\n",
      "  self._setitem_with_indexer(indexer, value)\n"
     ]
    }
   ],
   "source": [
    "for ind in df.index:\n",
    "    df['Teams'][ind] = df['Teams'][ind].upper()\n",
    "    df['HOME_ABBR'][ind] = team_to_abbreviation[df['Teams'][ind]]"
   ]
  },
  {
   "cell_type": "code",
   "execution_count": 20,
   "metadata": {},
   "outputs": [],
   "source": [
    "df = df[['HOME_ABBR', 'Winning_PCT']]"
   ]
  },
  {
   "cell_type": "code",
   "execution_count": 24,
   "metadata": {},
   "outputs": [
    {
     "data": {
      "text/plain": [
       "[{'PHI': 0.708,\n",
       "  'MIL': 0.667,\n",
       "  'BRK': 0.56,\n",
       "  'BOS': 0.545,\n",
       "  'IND': 0.5,\n",
       "  'CHO': 0.48,\n",
       "  'ATL': 0.478,\n",
       "  'TOR': 0.45799999999999996,\n",
       "  'NYK': 0.44,\n",
       "  'CLE': 0.4,\n",
       "  'MIA': 0.391,\n",
       "  'CHI': 0.391,\n",
       "  'ORL': 0.375,\n",
       "  'WAS': 0.28600000000000003,\n",
       "  'DET': 0.217,\n",
       "  'UTA': 0.792,\n",
       "  'LAL': 0.76,\n",
       "  'LAC': 0.68,\n",
       "  'PHO': 0.609,\n",
       "  'SAS': 0.583,\n",
       "  'POR': 0.545,\n",
       "  'DEN': 0.522,\n",
       "  'SAC': 0.522,\n",
       "  'GSW': 0.5,\n",
       "  'HOU': 0.478,\n",
       "  'MEM': 0.474,\n",
       "  'NOP': 0.455,\n",
       "  'DAL': 0.44,\n",
       "  'OKC': 0.435,\n",
       "  'MIN': 0.25}]"
      ]
     },
     "execution_count": 24,
     "metadata": {},
     "output_type": "execute_result"
    }
   ],
   "source": [
    "df = df.set_index('HOME_ABBR').T.to_dict('record')"
   ]
  },
  {
   "cell_type": "code",
   "execution_count": null,
   "metadata": {},
   "outputs": [],
   "source": []
  },
  {
   "cell_type": "markdown",
   "metadata": {},
   "source": [
    "TUTORIAL\n",
    "\n",
    "```python\n",
    "for ind in schedule_df.index: \n",
    "    schedule_df[''][ind] = team_to_abbreviation[schedule_df['HOME'][ind]]\n",
    "    schedule_df['VISITOR_ABBR'][ind] = team_to_abbreviation[schedule_df['VISITOR'][ind]]\n",
    "   ```"
   ]
  },
  {
   "cell_type": "code",
   "execution_count": 22,
   "metadata": {},
   "outputs": [
    {
     "data": {
      "text/plain": [
       "[{'HOME_ABBR': 'PHI', 'Winning_PCT': 0.708},\n",
       " {'HOME_ABBR': 'MIL', 'Winning_PCT': 0.667},\n",
       " {'HOME_ABBR': 'BRK', 'Winning_PCT': 0.56},\n",
       " {'HOME_ABBR': 'BOS', 'Winning_PCT': 0.545},\n",
       " {'HOME_ABBR': 'IND', 'Winning_PCT': 0.5},\n",
       " {'HOME_ABBR': 'CHO', 'Winning_PCT': 0.48},\n",
       " {'HOME_ABBR': 'ATL', 'Winning_PCT': 0.478},\n",
       " {'HOME_ABBR': 'TOR', 'Winning_PCT': 0.45799999999999996},\n",
       " {'HOME_ABBR': 'NYK', 'Winning_PCT': 0.44},\n",
       " {'HOME_ABBR': 'CLE', 'Winning_PCT': 0.4},\n",
       " {'HOME_ABBR': 'MIA', 'Winning_PCT': 0.391},\n",
       " {'HOME_ABBR': 'CHI', 'Winning_PCT': 0.391},\n",
       " {'HOME_ABBR': 'ORL', 'Winning_PCT': 0.375},\n",
       " {'HOME_ABBR': 'WAS', 'Winning_PCT': 0.28600000000000003},\n",
       " {'HOME_ABBR': 'DET', 'Winning_PCT': 0.217},\n",
       " {'HOME_ABBR': 'UTA', 'Winning_PCT': 0.792},\n",
       " {'HOME_ABBR': 'LAL', 'Winning_PCT': 0.76},\n",
       " {'HOME_ABBR': 'LAC', 'Winning_PCT': 0.68},\n",
       " {'HOME_ABBR': 'PHO', 'Winning_PCT': 0.609},\n",
       " {'HOME_ABBR': 'SAS', 'Winning_PCT': 0.583},\n",
       " {'HOME_ABBR': 'POR', 'Winning_PCT': 0.545},\n",
       " {'HOME_ABBR': 'DEN', 'Winning_PCT': 0.522},\n",
       " {'HOME_ABBR': 'SAC', 'Winning_PCT': 0.522},\n",
       " {'HOME_ABBR': 'GSW', 'Winning_PCT': 0.5},\n",
       " {'HOME_ABBR': 'HOU', 'Winning_PCT': 0.478},\n",
       " {'HOME_ABBR': 'MEM', 'Winning_PCT': 0.474},\n",
       " {'HOME_ABBR': 'NOP', 'Winning_PCT': 0.455},\n",
       " {'HOME_ABBR': 'DAL', 'Winning_PCT': 0.44},\n",
       " {'HOME_ABBR': 'OKC', 'Winning_PCT': 0.435},\n",
       " {'HOME_ABBR': 'MIN', 'Winning_PCT': 0.25}]"
      ]
     },
     "execution_count": 22,
     "metadata": {},
     "output_type": "execute_result"
    }
   ],
   "source": [
    "df.to_dict('records')"
   ]
  },
  {
   "cell_type": "code",
   "execution_count": null,
   "metadata": {},
   "outputs": [],
   "source": []
  },
  {
   "cell_type": "code",
   "execution_count": 15,
   "metadata": {},
   "outputs": [
    {
     "name": "stdout",
     "output_type": "stream",
     "text": [
      "PHILADELPHIA 76ERS \n",
      "Milwaukee Bucks \n",
      "Brooklyn Nets \n",
      "Boston Celtics \n",
      "Indiana Pacers \n",
      "Charlotte Hornets \n",
      "Atlanta Hawks \n",
      "Toronto Raptors \n",
      "New York Knicks \n",
      "Cleveland Cavaliers  \n",
      "Miami Heat  \n",
      "Chicago Bulls  \n",
      "Orlando Magic  \n",
      "Washington Wizards  \n",
      "Detroit Pistons  \n",
      "Utah Jazz \n",
      "Los Angeles Lakers \n",
      "Los Angeles Clippers \n",
      "Phoenix Suns \n",
      "San Antonio Spurs \n",
      "Portland Trail Blazers \n",
      "Denver Nuggets \n",
      "Sacramento Kings \n",
      "Golden State Warriors \n",
      "Houston Rockets  \n",
      "Memphis Grizzlies\n",
      "New Orleans Pelicans  \n",
      "Dallas Mavericks  \n",
      "Oklahoma City Thunder  \n",
      "Minnesota Timberwolves \n"
     ]
    }
   ],
   "source": [
    "for ind in df.index:\n",
    "    print(df['Teams'][ind])"
   ]
  },
  {
   "cell_type": "code",
   "execution_count": null,
   "metadata": {},
   "outputs": [],
   "source": []
  }
 ],
 "metadata": {
  "kernelspec": {
   "display_name": "Python 3",
   "language": "python",
   "name": "python3"
  },
  "language_info": {
   "codemirror_mode": {
    "name": "ipython",
    "version": 3
   },
   "file_extension": ".py",
   "mimetype": "text/x-python",
   "name": "python",
   "nbconvert_exporter": "python",
   "pygments_lexer": "ipython3",
   "version": "3.8.5"
  }
 },
 "nbformat": 4,
 "nbformat_minor": 4
}
