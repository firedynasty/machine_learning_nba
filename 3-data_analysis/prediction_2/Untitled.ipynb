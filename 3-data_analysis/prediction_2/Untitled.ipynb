{
 "cells": [
  {
   "cell_type": "code",
   "execution_count": null,
   "metadata": {},
   "outputs": [],
   "source": [
    "for ind in for_import_ml_df.index:\n",
    "    abbr = for_import_ml_df['HOME_ABBR'][ind]\n",
    "    if for_import_ml_df\n",
    "    winning_percentage = for_import_ml_df['home_winning_percentage'][ind]\n",
    "    team_winning_dict[abbr] = winning_percentage"
   ]
  }
 ],
 "metadata": {
  "kernelspec": {
   "display_name": "Python 3",
   "language": "python",
   "name": "python3"
  },
  "language_info": {
   "codemirror_mode": {
    "name": "ipython",
    "version": 3
   },
   "file_extension": ".py",
   "mimetype": "text/x-python",
   "name": "python",
   "nbconvert_exporter": "python",
   "pygments_lexer": "ipython3",
   "version": "3.8.5"
  }
 },
 "nbformat": 4,
 "nbformat_minor": 4
}
