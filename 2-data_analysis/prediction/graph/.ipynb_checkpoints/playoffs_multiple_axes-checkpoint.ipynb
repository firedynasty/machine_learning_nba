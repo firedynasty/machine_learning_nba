{
 "cells": [
  {
   "cell_type": "code",
   "execution_count": 1,
   "metadata": {},
   "outputs": [],
   "source": [
    "import pandas as pd"
   ]
  },
  {
   "cell_type": "code",
   "execution_count": 3,
   "metadata": {},
   "outputs": [],
   "source": [
    "playoffs_df = pd.read_csv('predict_feb3_playoffs.csv')"
   ]
  },
  {
   "cell_type": "code",
   "execution_count": 4,
   "metadata": {},
   "outputs": [
    {
     "data": {
      "text/html": [
       "<div>\n",
       "<style scoped>\n",
       "    .dataframe tbody tr th:only-of-type {\n",
       "        vertical-align: middle;\n",
       "    }\n",
       "\n",
       "    .dataframe tbody tr th {\n",
       "        vertical-align: top;\n",
       "    }\n",
       "\n",
       "    .dataframe thead th {\n",
       "        text-align: right;\n",
       "    }\n",
       "</style>\n",
       "<table border=\"1\" class=\"dataframe\">\n",
       "  <thead>\n",
       "    <tr style=\"text-align: right;\">\n",
       "      <th></th>\n",
       "      <th>DATE</th>\n",
       "      <th>HOME_ABBR</th>\n",
       "      <th>VISITOR_ABBR</th>\n",
       "      <th>MARGIN</th>\n",
       "      <th>PTS_home</th>\n",
       "      <th>PTS_away</th>\n",
       "      <th>FG_PCT_home</th>\n",
       "      <th>FT_PCT_home</th>\n",
       "      <th>FG3_PCT_home</th>\n",
       "      <th>AST_home</th>\n",
       "      <th>REB_home</th>\n",
       "      <th>FG_PCT_away</th>\n",
       "      <th>FT_PCT_away</th>\n",
       "      <th>FG3_PCT_away</th>\n",
       "      <th>AST_away</th>\n",
       "      <th>REB_away</th>\n",
       "      <th>HOME_TEAM_WINS</th>\n",
       "    </tr>\n",
       "  </thead>\n",
       "  <tbody>\n",
       "    <tr>\n",
       "      <th>0</th>\n",
       "      <td>2020-08-19</td>\n",
       "      <td>TOR</td>\n",
       "      <td>BKN</td>\n",
       "      <td>0.305643</td>\n",
       "      <td>113.360577</td>\n",
       "      <td>113.054934</td>\n",
       "      <td>0.460547</td>\n",
       "      <td>0.794806</td>\n",
       "      <td>0.377572</td>\n",
       "      <td>25.560577</td>\n",
       "      <td>46.056891</td>\n",
       "      <td>0.448034</td>\n",
       "      <td>0.755238</td>\n",
       "      <td>0.354842</td>\n",
       "      <td>22.783553</td>\n",
       "      <td>47.087500</td>\n",
       "      <td>1</td>\n",
       "    </tr>\n",
       "    <tr>\n",
       "      <th>1</th>\n",
       "      <td>2020-08-19</td>\n",
       "      <td>DEN</td>\n",
       "      <td>UTA</td>\n",
       "      <td>0.717468</td>\n",
       "      <td>110.962500</td>\n",
       "      <td>110.245032</td>\n",
       "      <td>0.476981</td>\n",
       "      <td>0.758019</td>\n",
       "      <td>0.348844</td>\n",
       "      <td>26.906250</td>\n",
       "      <td>44.712500</td>\n",
       "      <td>0.460713</td>\n",
       "      <td>0.780831</td>\n",
       "      <td>0.353983</td>\n",
       "      <td>22.142788</td>\n",
       "      <td>43.029327</td>\n",
       "      <td>0</td>\n",
       "    </tr>\n",
       "    <tr>\n",
       "      <th>2</th>\n",
       "      <td>2020-08-19</td>\n",
       "      <td>BOS</td>\n",
       "      <td>PHI</td>\n",
       "      <td>5.320204</td>\n",
       "      <td>114.224519</td>\n",
       "      <td>108.904315</td>\n",
       "      <td>0.466767</td>\n",
       "      <td>0.793137</td>\n",
       "      <td>0.368629</td>\n",
       "      <td>23.592788</td>\n",
       "      <td>45.556250</td>\n",
       "      <td>0.465674</td>\n",
       "      <td>0.740288</td>\n",
       "      <td>0.358198</td>\n",
       "      <td>23.265791</td>\n",
       "      <td>42.544872</td>\n",
       "      <td>1</td>\n",
       "    </tr>\n",
       "    <tr>\n",
       "      <th>3</th>\n",
       "      <td>2020-08-19</td>\n",
       "      <td>LAC</td>\n",
       "      <td>DAL</td>\n",
       "      <td>3.462956</td>\n",
       "      <td>114.808339</td>\n",
       "      <td>111.345383</td>\n",
       "      <td>0.460791</td>\n",
       "      <td>0.777725</td>\n",
       "      <td>0.364257</td>\n",
       "      <td>23.930125</td>\n",
       "      <td>47.877390</td>\n",
       "      <td>0.456408</td>\n",
       "      <td>0.775704</td>\n",
       "      <td>0.349058</td>\n",
       "      <td>24.391986</td>\n",
       "      <td>45.627613</td>\n",
       "      <td>0</td>\n",
       "    </tr>\n",
       "    <tr>\n",
       "      <th>4</th>\n",
       "      <td>2020-08-18</td>\n",
       "      <td>MIL</td>\n",
       "      <td>ORL</td>\n",
       "      <td>11.792444</td>\n",
       "      <td>119.805861</td>\n",
       "      <td>108.013417</td>\n",
       "      <td>0.481856</td>\n",
       "      <td>0.735749</td>\n",
       "      <td>0.360157</td>\n",
       "      <td>26.540751</td>\n",
       "      <td>51.495879</td>\n",
       "      <td>0.464689</td>\n",
       "      <td>0.763553</td>\n",
       "      <td>0.364768</td>\n",
       "      <td>24.842576</td>\n",
       "      <td>45.231067</td>\n",
       "      <td>0</td>\n",
       "    </tr>\n",
       "    <tr>\n",
       "      <th>5</th>\n",
       "      <td>2020-08-18</td>\n",
       "      <td>IND</td>\n",
       "      <td>MIA</td>\n",
       "      <td>0.885311</td>\n",
       "      <td>110.308787</td>\n",
       "      <td>109.423476</td>\n",
       "      <td>0.476449</td>\n",
       "      <td>0.788569</td>\n",
       "      <td>0.362652</td>\n",
       "      <td>26.157129</td>\n",
       "      <td>43.801907</td>\n",
       "      <td>0.448654</td>\n",
       "      <td>0.785185</td>\n",
       "      <td>0.349274</td>\n",
       "      <td>24.675457</td>\n",
       "      <td>43.307622</td>\n",
       "      <td>0</td>\n",
       "    </tr>\n",
       "    <tr>\n",
       "      <th>6</th>\n",
       "      <td>2020-08-18</td>\n",
       "      <td>HOU</td>\n",
       "      <td>OKC</td>\n",
       "      <td>10.238698</td>\n",
       "      <td>118.087711</td>\n",
       "      <td>107.849013</td>\n",
       "      <td>0.448692</td>\n",
       "      <td>0.786422</td>\n",
       "      <td>0.341346</td>\n",
       "      <td>22.022514</td>\n",
       "      <td>45.188086</td>\n",
       "      <td>0.453746</td>\n",
       "      <td>0.782840</td>\n",
       "      <td>0.342131</td>\n",
       "      <td>23.451645</td>\n",
       "      <td>45.776316</td>\n",
       "      <td>1</td>\n",
       "    </tr>\n",
       "    <tr>\n",
       "      <th>7</th>\n",
       "      <td>2020-08-18</td>\n",
       "      <td>LAL</td>\n",
       "      <td>POR</td>\n",
       "      <td>-2.564286</td>\n",
       "      <td>113.425000</td>\n",
       "      <td>115.989286</td>\n",
       "      <td>0.479056</td>\n",
       "      <td>0.736869</td>\n",
       "      <td>0.352581</td>\n",
       "      <td>25.787500</td>\n",
       "      <td>46.100000</td>\n",
       "      <td>0.461190</td>\n",
       "      <td>0.787864</td>\n",
       "      <td>0.378439</td>\n",
       "      <td>24.975893</td>\n",
       "      <td>47.404464</td>\n",
       "      <td>0</td>\n",
       "    </tr>\n",
       "  </tbody>\n",
       "</table>\n",
       "</div>"
      ],
      "text/plain": [
       "         DATE HOME_ABBR VISITOR_ABBR     MARGIN    PTS_home    PTS_away  \\\n",
       "0  2020-08-19       TOR          BKN   0.305643  113.360577  113.054934   \n",
       "1  2020-08-19       DEN          UTA   0.717468  110.962500  110.245032   \n",
       "2  2020-08-19       BOS          PHI   5.320204  114.224519  108.904315   \n",
       "3  2020-08-19       LAC          DAL   3.462956  114.808339  111.345383   \n",
       "4  2020-08-18       MIL          ORL  11.792444  119.805861  108.013417   \n",
       "5  2020-08-18       IND          MIA   0.885311  110.308787  109.423476   \n",
       "6  2020-08-18       HOU          OKC  10.238698  118.087711  107.849013   \n",
       "7  2020-08-18       LAL          POR  -2.564286  113.425000  115.989286   \n",
       "\n",
       "   FG_PCT_home  FT_PCT_home  FG3_PCT_home   AST_home   REB_home  FG_PCT_away  \\\n",
       "0     0.460547     0.794806      0.377572  25.560577  46.056891     0.448034   \n",
       "1     0.476981     0.758019      0.348844  26.906250  44.712500     0.460713   \n",
       "2     0.466767     0.793137      0.368629  23.592788  45.556250     0.465674   \n",
       "3     0.460791     0.777725      0.364257  23.930125  47.877390     0.456408   \n",
       "4     0.481856     0.735749      0.360157  26.540751  51.495879     0.464689   \n",
       "5     0.476449     0.788569      0.362652  26.157129  43.801907     0.448654   \n",
       "6     0.448692     0.786422      0.341346  22.022514  45.188086     0.453746   \n",
       "7     0.479056     0.736869      0.352581  25.787500  46.100000     0.461190   \n",
       "\n",
       "   FT_PCT_away  FG3_PCT_away   AST_away   REB_away  HOME_TEAM_WINS  \n",
       "0     0.755238      0.354842  22.783553  47.087500               1  \n",
       "1     0.780831      0.353983  22.142788  43.029327               0  \n",
       "2     0.740288      0.358198  23.265791  42.544872               1  \n",
       "3     0.775704      0.349058  24.391986  45.627613               0  \n",
       "4     0.763553      0.364768  24.842576  45.231067               0  \n",
       "5     0.785185      0.349274  24.675457  43.307622               0  \n",
       "6     0.782840      0.342131  23.451645  45.776316               1  \n",
       "7     0.787864      0.378439  24.975893  47.404464               0  "
      ]
     },
     "execution_count": 4,
     "metadata": {},
     "output_type": "execute_result"
    }
   ],
   "source": [
    "playoffs_df"
   ]
  },
  {
   "cell_type": "markdown",
   "metadata": {
    "code_folding": [
     0
    ]
   },
   "source": [
    "Tutorial\n",
    "```python\n",
    "for ind in sample_df.index:\n",
    "    visitor = sample_df['VISITOR_TEAM_ID'][ind]\n",
    "```"
   ]
  },
  {
   "cell_type": "code",
   "execution_count": 6,
   "metadata": {},
   "outputs": [
    {
     "data": {
      "text/plain": [
       "8"
      ]
     },
     "execution_count": 6,
     "metadata": {},
     "output_type": "execute_result"
    }
   ],
   "source": [
    "len(playoffs_df)"
   ]
  },
  {
   "cell_type": "code",
   "execution_count": null,
   "metadata": {},
   "outputs": [],
   "source": []
  },
  {
   "cell_type": "markdown",
   "metadata": {},
   "source": [
    "Tutorial\n",
    "\n",
    "```python\n",
    "string_ints = [str(int) for int in ints] Convert each integer to a string.\n",
    "```"
   ]
  },
  {
   "cell_type": "code",
   "execution_count": 30,
   "metadata": {},
   "outputs": [],
   "source": [
    "import numpy as np\n",
    "list_ = np.arange(len(playoffs_df))\n",
    "list_ = list_.tolist()\n",
    "list_ = [str(int) for int in list_]\n",
    "list_ = ['df' + i for i in list_]"
   ]
  },
  {
   "cell_type": "code",
   "execution_count": 31,
   "metadata": {},
   "outputs": [
    {
     "data": {
      "text/plain": [
       "['df0', 'df1', 'df2', 'df3', 'df4', 'df5', 'df6', 'df7']"
      ]
     },
     "execution_count": 31,
     "metadata": {},
     "output_type": "execute_result"
    }
   ],
   "source": [
    "list_"
   ]
  },
  {
   "cell_type": "code",
   "execution_count": 19,
   "metadata": {},
   "outputs": [
    {
     "name": "stdout",
     "output_type": "stream",
     "text": [
      "[0]\n",
      "[1]\n",
      "[2]\n",
      "[3]\n",
      "[4]\n",
      "[5]\n",
      "[6]\n",
      "[7]\n"
     ]
    }
   ],
   "source": [
    "for ind in playoffs_df.index:\n",
    "    print ([ind])"
   ]
  },
  {
   "cell_type": "code",
   "execution_count": 35,
   "metadata": {},
   "outputs": [],
   "source": [
    "empty_list = []"
   ]
  },
  {
   "cell_type": "code",
   "execution_count": 36,
   "metadata": {},
   "outputs": [],
   "source": [
    "for ind in playoffs_df.index:\n",
    "    home_team = playoffs_df['HOME_ABBR'][ind]\n",
    "    visitor_team = playoffs_df['VISITOR_ABBR'][ind]\n",
    "    home_points = playoffs_df['PTS_home'][ind]\n",
    "    visitor_points = playoffs_df['PTS_away'][ind]\n",
    "    home_fg_pct = playoffs_df['FG_PCT_home'][ind]\n",
    "    visitor_fg_pct = playoffs_df['FG_PCT_away'][ind]\n",
    "    data = {'teams':[home_team, visitor_team],\n",
    "           'pts':[home_points, visitor_points],\n",
    "           'fg_pct':[home_fg_pct, visitor_fg_pct]}\n",
    "    empty_list.append(data)"
   ]
  },
  {
   "cell_type": "code",
   "execution_count": 39,
   "metadata": {},
   "outputs": [],
   "source": [
    "df0 = pd.DataFrame(empty_list[0])\n",
    "df1 = pd.DataFrame(empty_list[1])\n",
    "df2 = pd.DataFrame(empty_list[2])\n",
    "df3 = pd.DataFrame(empty_list[3])\n",
    "df4 = pd.DataFrame(empty_list[4])\n",
    "df5 = pd.DataFrame(empty_list[5])\n",
    "df6 = pd.DataFrame(empty_list[6])\n",
    "df7 = pd.DataFrame(empty_list[7])"
   ]
  },
  {
   "cell_type": "code",
   "execution_count": null,
   "metadata": {},
   "outputs": [],
   "source": [
    "ax = df.plot('Date','A')\n",
    "df.plot('Date','B',secondary_y=True, ax=ax)"
   ]
  },
  {
   "cell_type": "code",
   "execution_count": 21,
   "metadata": {},
   "outputs": [],
   "source": [
    "data = {'teams':['Portland', 'Lakers'],\n",
    "       'pts': [116,113],\n",
    "       'fg_pct': [0.46, 0.47]}"
   ]
  },
  {
   "cell_type": "code",
   "execution_count": 23,
   "metadata": {},
   "outputs": [],
   "source": [
    "df = pd.DataFrame(data)"
   ]
  },
  {
   "cell_type": "code",
   "execution_count": 24,
   "metadata": {},
   "outputs": [
    {
     "data": {
      "text/html": [
       "<div>\n",
       "<style scoped>\n",
       "    .dataframe tbody tr th:only-of-type {\n",
       "        vertical-align: middle;\n",
       "    }\n",
       "\n",
       "    .dataframe tbody tr th {\n",
       "        vertical-align: top;\n",
       "    }\n",
       "\n",
       "    .dataframe thead th {\n",
       "        text-align: right;\n",
       "    }\n",
       "</style>\n",
       "<table border=\"1\" class=\"dataframe\">\n",
       "  <thead>\n",
       "    <tr style=\"text-align: right;\">\n",
       "      <th></th>\n",
       "      <th>teams</th>\n",
       "      <th>pts</th>\n",
       "      <th>fg_pct</th>\n",
       "    </tr>\n",
       "  </thead>\n",
       "  <tbody>\n",
       "    <tr>\n",
       "      <th>0</th>\n",
       "      <td>Portland</td>\n",
       "      <td>116</td>\n",
       "      <td>0.46</td>\n",
       "    </tr>\n",
       "    <tr>\n",
       "      <th>1</th>\n",
       "      <td>Lakers</td>\n",
       "      <td>113</td>\n",
       "      <td>0.47</td>\n",
       "    </tr>\n",
       "  </tbody>\n",
       "</table>\n",
       "</div>"
      ],
      "text/plain": [
       "      teams  pts  fg_pct\n",
       "0  Portland  116    0.46\n",
       "1    Lakers  113    0.47"
      ]
     },
     "execution_count": 24,
     "metadata": {},
     "output_type": "execute_result"
    }
   ],
   "source": [
    "df"
   ]
  },
  {
   "cell_type": "code",
   "execution_count": 43,
   "metadata": {},
   "outputs": [
    {
     "data": {
      "text/html": [
       "<div>\n",
       "<style scoped>\n",
       "    .dataframe tbody tr th:only-of-type {\n",
       "        vertical-align: middle;\n",
       "    }\n",
       "\n",
       "    .dataframe tbody tr th {\n",
       "        vertical-align: top;\n",
       "    }\n",
       "\n",
       "    .dataframe thead th {\n",
       "        text-align: right;\n",
       "    }\n",
       "</style>\n",
       "<table border=\"1\" class=\"dataframe\">\n",
       "  <thead>\n",
       "    <tr style=\"text-align: right;\">\n",
       "      <th></th>\n",
       "      <th>teams</th>\n",
       "      <th>pts</th>\n",
       "      <th>fg_pct</th>\n",
       "    </tr>\n",
       "  </thead>\n",
       "  <tbody>\n",
       "    <tr>\n",
       "      <th>0</th>\n",
       "      <td>TOR</td>\n",
       "      <td>113.360577</td>\n",
       "      <td>0.460547</td>\n",
       "    </tr>\n",
       "    <tr>\n",
       "      <th>1</th>\n",
       "      <td>BKN</td>\n",
       "      <td>113.054934</td>\n",
       "      <td>0.448034</td>\n",
       "    </tr>\n",
       "  </tbody>\n",
       "</table>\n",
       "</div>"
      ],
      "text/plain": [
       "  teams         pts    fg_pct\n",
       "0   TOR  113.360577  0.460547\n",
       "1   BKN  113.054934  0.448034"
      ]
     },
     "execution_count": 43,
     "metadata": {},
     "output_type": "execute_result"
    }
   ],
   "source": [
    "df0"
   ]
  },
  {
   "cell_type": "code",
   "execution_count": 49,
   "metadata": {},
   "outputs": [
    {
     "data": {
      "text/html": [
       "<div>\n",
       "<style scoped>\n",
       "    .dataframe tbody tr th:only-of-type {\n",
       "        vertical-align: middle;\n",
       "    }\n",
       "\n",
       "    .dataframe tbody tr th {\n",
       "        vertical-align: top;\n",
       "    }\n",
       "\n",
       "    .dataframe thead th {\n",
       "        text-align: right;\n",
       "    }\n",
       "</style>\n",
       "<table border=\"1\" class=\"dataframe\">\n",
       "  <thead>\n",
       "    <tr style=\"text-align: right;\">\n",
       "      <th></th>\n",
       "      <th>teams</th>\n",
       "      <th>pts</th>\n",
       "      <th>fg_pct</th>\n",
       "    </tr>\n",
       "  </thead>\n",
       "  <tbody>\n",
       "    <tr>\n",
       "      <th>0</th>\n",
       "      <td>DEN</td>\n",
       "      <td>110.962500</td>\n",
       "      <td>0.476981</td>\n",
       "    </tr>\n",
       "    <tr>\n",
       "      <th>1</th>\n",
       "      <td>UTA</td>\n",
       "      <td>110.245032</td>\n",
       "      <td>0.460713</td>\n",
       "    </tr>\n",
       "  </tbody>\n",
       "</table>\n",
       "</div>"
      ],
      "text/plain": [
       "  teams         pts    fg_pct\n",
       "0   DEN  110.962500  0.476981\n",
       "1   UTA  110.245032  0.460713"
      ]
     },
     "execution_count": 49,
     "metadata": {},
     "output_type": "execute_result"
    }
   ],
   "source": [
    "df1"
   ]
  },
  {
   "cell_type": "code",
   "execution_count": 50,
   "metadata": {},
   "outputs": [
    {
     "name": "stderr",
     "output_type": "stream",
     "text": [
      "/Users/stanleytan/anaconda3/lib/python3.8/site-packages/pandas/plotting/_matplotlib/core.py:1182: UserWarning: FixedFormatter should only be used together with FixedLocator\n",
      "  ax.set_xticklabels(xticklabels)\n"
     ]
    },
    {
     "data": {
      "image/png": "[encoded data removed]",
      "text/plain": [
       "<Figure size 432x288 with 1 Axes>"
      ]
     },
     "metadata": {
      "needs_background": "light"
     },
     "output_type": "display_data"
    }
   ],
   "source": [
    "ax1 = df1.plot('teams', 'pts')\n",
    "# df1.plot('teams', 'fg_pct', secondary_y=True, ax=ax1)"
   ]
  },
  {
   "cell_type": "code",
   "execution_count": 19,
   "metadata": {},
   "outputs": [
    {
     "name": "stderr",
     "output_type": "stream",
     "text": [
      "/Users/stanleytan/anaconda3/lib/python3.8/site-packages/pandas/plotting/_matplotlib/core.py:1182: UserWarning: FixedFormatter should only be used together with FixedLocator\n",
      "  ax.set_xticklabels(xticklabels)\n"
     ]
    },
    {
     "data": {
      "text/plain": [
       "<AxesSubplot:>"
      ]
     },
     "execution_count": 19,
     "metadata": {},
     "output_type": "execute_result"
    },
    {
     "data": {
      "image/png": "[encoded data removed]",
      "text/plain": [
       "<Figure size 432x288 with 1 Axes>"
      ]
     },
     "metadata": {
      "needs_background": "light"
     },
     "output_type": "display_data"
    }
   ],
   "source": [
    "ax = df.plot('Portland')"
   ]
  },
  {
   "cell_type": "code",
   "execution_count": 3,
   "metadata": {},
   "outputs": [
    {
     "data": {
      "image/png": "[encoded data removed]",
      "text/plain": [
       "<Figure size 432x288 with 2 Axes>"
      ]
     },
     "metadata": {
      "needs_background": "light"
     },
     "output_type": "display_data"
    }
   ],
   "source": [
    "import matplotlib.pyplot as plt\n",
    "import numpy as np\n",
    "import pandas as pd\n",
    "\n",
    "width = .35 # width of a bar\n",
    "\n",
    "m1_t = pd.DataFrame({\n",
    " 'abnormal' : [90,40,30,30,30,25,25,20,15,10],\n",
    " 'fix' : [60,70,65,70,70,60,50,45,45,45],\n",
    " 'normal' : [140,160,170,180,190,200,210,220,230,240],\n",
    " 'bad_rate' : [210,100,100,70,70,75,70,60,65,60]})\n",
    "\n",
    "m1_t[['abnormal','fix','normal']].plot(kind='bar', width = width)\n",
    "m1_t['bad_rate'].plot(secondary_y=True)\n",
    "\n",
    "ax = plt.gca()\n",
    "plt.xlim([-width, len(m1_t['normal'])-width])\n",
    "ax.set_xticklabels(('G1', 'G2', 'G3', 'G4', 'G5', 'G6', 'G7', 'G8', 'G9', 'G10'))\n",
    "\n",
    "plt.show()"
   ]
  },
  {
   "cell_type": "code",
   "execution_count": 18,
   "metadata": {},
   "outputs": [
    {
     "data": {
      "text/html": [
       "<div>\n",
       "<style scoped>\n",
       "    .dataframe tbody tr th:only-of-type {\n",
       "        vertical-align: middle;\n",
       "    }\n",
       "\n",
       "    .dataframe tbody tr th {\n",
       "        vertical-align: top;\n",
       "    }\n",
       "\n",
       "    .dataframe thead th {\n",
       "        text-align: right;\n",
       "    }\n",
       "</style>\n",
       "<table border=\"1\" class=\"dataframe\">\n",
       "  <thead>\n",
       "    <tr style=\"text-align: right;\">\n",
       "      <th></th>\n",
       "      <th>abnormal</th>\n",
       "      <th>fix</th>\n",
       "      <th>normal</th>\n",
       "      <th>bad_rate</th>\n",
       "    </tr>\n",
       "  </thead>\n",
       "  <tbody>\n",
       "    <tr>\n",
       "      <th>0</th>\n",
       "      <td>90</td>\n",
       "      <td>60</td>\n",
       "      <td>140</td>\n",
       "      <td>210</td>\n",
       "    </tr>\n",
       "    <tr>\n",
       "      <th>1</th>\n",
       "      <td>40</td>\n",
       "      <td>70</td>\n",
       "      <td>160</td>\n",
       "      <td>100</td>\n",
       "    </tr>\n",
       "    <tr>\n",
       "      <th>2</th>\n",
       "      <td>30</td>\n",
       "      <td>65</td>\n",
       "      <td>170</td>\n",
       "      <td>100</td>\n",
       "    </tr>\n",
       "    <tr>\n",
       "      <th>3</th>\n",
       "      <td>30</td>\n",
       "      <td>70</td>\n",
       "      <td>180</td>\n",
       "      <td>70</td>\n",
       "    </tr>\n",
       "    <tr>\n",
       "      <th>4</th>\n",
       "      <td>30</td>\n",
       "      <td>70</td>\n",
       "      <td>190</td>\n",
       "      <td>70</td>\n",
       "    </tr>\n",
       "    <tr>\n",
       "      <th>5</th>\n",
       "      <td>25</td>\n",
       "      <td>60</td>\n",
       "      <td>200</td>\n",
       "      <td>75</td>\n",
       "    </tr>\n",
       "    <tr>\n",
       "      <th>6</th>\n",
       "      <td>25</td>\n",
       "      <td>50</td>\n",
       "      <td>210</td>\n",
       "      <td>70</td>\n",
       "    </tr>\n",
       "    <tr>\n",
       "      <th>7</th>\n",
       "      <td>20</td>\n",
       "      <td>45</td>\n",
       "      <td>220</td>\n",
       "      <td>60</td>\n",
       "    </tr>\n",
       "    <tr>\n",
       "      <th>8</th>\n",
       "      <td>15</td>\n",
       "      <td>45</td>\n",
       "      <td>230</td>\n",
       "      <td>65</td>\n",
       "    </tr>\n",
       "    <tr>\n",
       "      <th>9</th>\n",
       "      <td>10</td>\n",
       "      <td>45</td>\n",
       "      <td>240</td>\n",
       "      <td>60</td>\n",
       "    </tr>\n",
       "  </tbody>\n",
       "</table>\n",
       "</div>"
      ],
      "text/plain": [
       "   abnormal  fix  normal  bad_rate\n",
       "0        90   60     140       210\n",
       "1        40   70     160       100\n",
       "2        30   65     170       100\n",
       "3        30   70     180        70\n",
       "4        30   70     190        70\n",
       "5        25   60     200        75\n",
       "6        25   50     210        70\n",
       "7        20   45     220        60\n",
       "8        15   45     230        65\n",
       "9        10   45     240        60"
      ]
     },
     "execution_count": 18,
     "metadata": {},
     "output_type": "execute_result"
    }
   ],
   "source": [
    "m1_t"
   ]
  },
  {
   "cell_type": "code",
   "execution_count": 5,
   "metadata": {},
   "outputs": [],
   "source": [
    "data = {'pts':[116, 113],\n",
    "        'fg_pct':[0.46, 0.47]}"
   ]
  },
  {
   "cell_type": "code",
   "execution_count": 6,
   "metadata": {},
   "outputs": [],
   "source": [
    "df = pd.DataFrame(data, index=['Portland', 'Lakers'])"
   ]
  },
  {
   "cell_type": "code",
   "execution_count": 7,
   "metadata": {},
   "outputs": [
    {
     "data": {
      "text/html": [
       "<div>\n",
       "<style scoped>\n",
       "    .dataframe tbody tr th:only-of-type {\n",
       "        vertical-align: middle;\n",
       "    }\n",
       "\n",
       "    .dataframe tbody tr th {\n",
       "        vertical-align: top;\n",
       "    }\n",
       "\n",
       "    .dataframe thead th {\n",
       "        text-align: right;\n",
       "    }\n",
       "</style>\n",
       "<table border=\"1\" class=\"dataframe\">\n",
       "  <thead>\n",
       "    <tr style=\"text-align: right;\">\n",
       "      <th></th>\n",
       "      <th>pts</th>\n",
       "      <th>fg_pct</th>\n",
       "    </tr>\n",
       "  </thead>\n",
       "  <tbody>\n",
       "    <tr>\n",
       "      <th>Portland</th>\n",
       "      <td>116</td>\n",
       "      <td>0.46</td>\n",
       "    </tr>\n",
       "    <tr>\n",
       "      <th>Lakers</th>\n",
       "      <td>113</td>\n",
       "      <td>0.47</td>\n",
       "    </tr>\n",
       "  </tbody>\n",
       "</table>\n",
       "</div>"
      ],
      "text/plain": [
       "          pts  fg_pct\n",
       "Portland  116    0.46\n",
       "Lakers    113    0.47"
      ]
     },
     "execution_count": 7,
     "metadata": {},
     "output_type": "execute_result"
    }
   ],
   "source": [
    "df"
   ]
  },
  {
   "cell_type": "code",
   "execution_count": 10,
   "metadata": {},
   "outputs": [
    {
     "data": {
      "text/plain": [
       "<AxesSubplot:>"
      ]
     },
     "execution_count": 10,
     "metadata": {},
     "output_type": "execute_result"
    },
    {
     "data": {
      "image/png": "[encoded data removed]",
      "text/plain": [
       "<Figure size 432x288 with 1 Axes>"
      ]
     },
     "metadata": {
      "needs_background": "light"
     },
     "output_type": "display_data"
    }
   ],
   "source": [
    "from matplotlib import ticker\n",
    "import matplotlib.pyplot as plt\n",
    "\n",
    "df.plot(kind='bar')"
   ]
  },
  {
   "cell_type": "code",
   "execution_count": 9,
   "metadata": {},
   "outputs": [
    {
     "data": {
      "text/plain": [
       "<AxesSubplot:>"
      ]
     },
     "execution_count": 9,
     "metadata": {},
     "output_type": "execute_result"
    },
    {
     "data": {
      "image/png": "[encoded data removed]",
      "text/plain": [
       "<Figure size 432x288 with 1 Axes>"
      ]
     },
     "metadata": {
      "needs_background": "light"
     },
     "output_type": "display_data"
    },
    {
     "data": {
      "image/png": "[encoded data removed]",
      "text/plain": [
       "<Figure size 432x288 with 1 Axes>"
      ]
     },
     "metadata": {
      "needs_background": "light"
     },
     "output_type": "display_data"
    }
   ],
   "source": [
    "df[['pts']].plot(kind='bar')\n",
    "\n",
    "m1_t[['abnormal','fix','normal']].plot(kind='bar', width = width)\n"
   ]
  },
  {
   "cell_type": "code",
   "execution_count": 11,
   "metadata": {},
   "outputs": [
    {
     "data": {
      "image/png": "[encoded data removed]",
      "text/plain": [
       "<Figure size 432x288 with 1 Axes>"
      ]
     },
     "metadata": {
      "needs_background": "light"
     },
     "output_type": "display_data"
    }
   ],
   "source": [
    "# libraries\n",
    "import numpy as np\n",
    "import matplotlib.pyplot as plt\n",
    " \n",
    "# set width of bar\n",
    "barWidth = 0.25\n",
    " \n",
    "# set height of bar\n",
    "bars1 = [12, 30, 1, 8, 22]\n",
    "bars2 = [28, 6, 16, 5, 10]\n",
    "bars3 = [29, 3, 24, 25, 17]\n",
    " \n",
    "# Set position of bar on X axis\n",
    "r1 = np.arange(len(bars1))\n",
    "r2 = [x + barWidth for x in r1]\n",
    "r3 = [x + barWidth for x in r2]\n",
    " \n",
    "# Make the plot\n",
    "plt.bar(r1, bars1, color='#7f6d5f', width=barWidth, edgecolor='white', label='var1')\n",
    "plt.bar(r2, bars2, color='#557f2d', width=barWidth, edgecolor='white', label='var2')\n",
    "plt.bar(r3, bars3, color='#2d7f5e', width=barWidth, edgecolor='white', label='var3')\n",
    " \n",
    "# Add xticks on the middle of the group bars\n",
    "plt.xlabel('group', fontweight='bold')\n",
    "plt.xticks([r + barWidth for r in range(len(bars1))], ['A', 'B', 'C', 'D', 'E'])\n",
    " \n",
    "# Create legend & Show graphic\n",
    "plt.legend()\n",
    "plt.show()\n"
   ]
  },
  {
   "cell_type": "code",
   "execution_count": 17,
   "metadata": {},
   "outputs": [
    {
     "data": {
      "image/png": "[encoded data removed]",
      "text/plain": [
       "<Figure size 432x288 with 1 Axes>"
      ]
     },
     "metadata": {
      "needs_background": "light"
     },
     "output_type": "display_data"
    }
   ],
   "source": [
    "# libraries\n",
    "import numpy as np\n",
    "import matplotlib.pyplot as plt\n",
    " \n",
    "# set width of bar\n",
    "barWidth = 0.25\n",
    " \n",
    "# set height of bar\n",
    "bars1 = [116]\n",
    "bars2 = [113]\n",
    " \n",
    "# Set position of bar on X axis\n",
    "r1 = np.arange(len(bars1))\n",
    "r2 = [x + barWidth for x in r1]\n",
    " \n",
    "# Make the plot\n",
    "plt.bar(r1, bars1, color='#7f6d5f', width=barWidth, edgecolor='white', label='Portland')\n",
    "plt.bar(r2, bars2, color='#557f2d', width=barWidth, edgecolor='white', label='Lakers')\n",
    "# Add xticks on the middle of the group bars\n",
    "plt.xlabel('group', fontweight='bold')\n",
    "plt.xticks([r + barWidth for r in range(len(bars1))], ['A'])\n",
    " \n",
    "# Create legend & Show graphic\n",
    "plt.legend()\n",
    "plt.show()\n"
   ]
  },
  {
   "cell_type": "code",
   "execution_count": 13,
   "metadata": {},
   "outputs": [
    {
     "data": {
      "image/png": "[encoded data removed]",
      "text/plain": [
       "<Figure size 432x288 with 2 Axes>"
      ]
     },
     "metadata": {
      "needs_background": "light"
     },
     "output_type": "display_data"
    }
   ],
   "source": [
    "import matplotlib.pyplot as plt\n",
    "import numpy as np\n",
    "import pandas as pd\n",
    "\n",
    "width = .35 # width of a bar\n",
    "\n",
    "m1_t = pd.DataFrame({\n",
    " 'abnormal' : [90,40,30,30,30,25,25,20,15,10],\n",
    " 'fix' : [60,70,65,70,70,60,50,45,45,45],\n",
    " 'normal' : [140,160,170,180,190,200,210,220,230,240],\n",
    " 'bad_rate' : [210,100,100,70,70,75,70,60,65,60]})\n",
    "\n",
    "m1_t[['abnormal','fix','normal']].plot(kind='bar', width = width)\n",
    "m1_t['bad_rate'].plot(secondary_y=True)\n",
    "\n",
    "ax = plt.gca()"
   ]
  },
  {
   "cell_type": "code",
   "execution_count": null,
   "metadata": {},
   "outputs": [],
   "source": []
  }
 ],
 "metadata": {
  "kernelspec": {
   "display_name": "Python 3",
   "language": "python",
   "name": "python3"
  },
  "language_info": {
   "codemirror_mode": {
    "name": "ipython",
    "version": 3
   },
   "file_extension": ".py",
   "mimetype": "text/x-python",
   "name": "python",
   "nbconvert_exporter": "python",
   "pygments_lexer": "ipython3",
   "version": "3.8.5"
  }
 },
 "nbformat": 4,
 "nbformat_minor": 4
}
